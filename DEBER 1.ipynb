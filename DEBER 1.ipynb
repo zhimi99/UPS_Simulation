{
 "cells": [
  {
   "cell_type": "markdown",
   "metadata": {},
   "source": [
    "### <CENTER> DEBER 1 DE PROBABILIDAD </CENTER>\n"
   ]
  },
  {
   "cell_type": "code",
   "execution_count": 4,
   "metadata": {},
   "outputs": [],
   "source": [
    "import numpy as np\n",
    "from random import randint, uniform,random"
   ]
  },
  {
   "cell_type": "code",
   "execution_count": 5,
   "metadata": {
    "scrolled": true
   },
   "outputs": [
    {
     "name": "stdout",
     "output_type": "stream",
     "text": [
      "8.071948532484479\n",
      "2   700\n",
      "3   800\n",
      "4   400\n",
      "5   1000\n",
      "6   500\n",
      "7   700\n",
      "8   600\n",
      "9   300\n",
      "10   700\n",
      "11   300\n",
      "12   800\n"
     ]
    },
    {
     "data": {
      "image/png": "[encoded data removed]",
      "text/plain": [
       "<Figure size 432x288 with 1 Axes>"
      ]
     },
     "metadata": {
      "needs_background": "light"
     },
     "output_type": "display_data"
    }
   ],
   "source": [
    "import matplotlib.pyplot as plt\n",
    "ale = np.random.normal(0,3,10)\n",
    "#print(ale)\n",
    "k = randint(0,10)\n",
    "#print(k)\n",
    "val=100\n",
    "j =uniform(0,10)\n",
    "print(j)\n",
    "a = np.arange(13)\n",
    "#print(len(a))conda install -c anaconda numpy\n",
    "for i in range(0,12):\n",
    "            a[i]=0\n",
    "            #print(a[i])\n",
    "for m in range(0,val):\n",
    "        cont = randint(0,12)\n",
    "        dado1= int(randint(1,6)*0.8)+1\n",
    "        dado2= int(randint(1,6)*0.8)+1\n",
    "        aux=int((dado1+dado2))\n",
    "        a[cont]=aux\n",
    "resultado=[]\n",
    "for p in range(2,13):\n",
    "        resultado.append(a[p]*val)\n",
    "        print(str(p)+\"   \"+str(a[p]*val))\n",
    "xx=range(2,len(resultado)+2)\n",
    "plt.bar(xx,resultado,width=0.5,color='blue',align='center')\n",
    "plt.ylabel('Suma de los Datos')\n",
    "plt.xlabel('Probabilidad')\n",
    "plt.show()"
   ]
  },
  {
   "cell_type": "code",
   "execution_count": null,
   "metadata": {},
   "outputs": [],
   "source": []
  }
 ],
 "metadata": {
  "kernelspec": {
   "display_name": "Python 3",
   "language": "python",
   "name": "python3"
  },
  "language_info": {
   "codemirror_mode": {
    "name": "ipython",
    "version": 3
   },
   "file_extension": ".py",
   "mimetype": "text/x-python",
   "name": "python",
   "nbconvert_exporter": "python",
   "pygments_lexer": "ipython3",
   "version": "3.8.5"
  }
 },
 "nbformat": 4,
 "nbformat_minor": 4
}
