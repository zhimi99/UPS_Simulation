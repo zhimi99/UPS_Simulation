{
 "cells": [
  {
   "cell_type": "markdown",
   "metadata": {},
   "source": [
    "## <CENTER> IMPLEMENTACION DE LA ECUACION DE LA RECTA </CENTER>"
   ]
  },
  {
   "cell_type": "code",
   "execution_count": 3,
   "metadata": {},
   "outputs": [
    {
     "name": "stdout",
     "output_type": "stream",
     "text": [
      "[-0.18817283]\n"
     ]
    },
    {
     "data": {
      "image/png": "[encoded data removed]",
      "text/plain": [
       "<Figure size 432x288 with 1 Axes>"
      ]
     },
     "metadata": {
      "needs_background": "light"
     },
     "output_type": "display_data"
    },
    {
     "name": "stdout",
     "output_type": "stream",
     "text": [
      "La ecuacion de la recta es: \n",
      "y = -0.18817282620535392 x + 4.726490623714457\n"
     ]
    }
   ],
   "source": [
    "import numpy as np\n",
    "import matplotlib.pyplot as plt\n",
    "from sklearn import linear_model\n",
    "\n",
    "def generar_datos():\n",
    "    x = np.random.random(20)*10\n",
    "    y = np.random.random(20)*10\n",
    "    return x.reshape((20,1)), y.reshape((20,1))\n",
    "x,y = generar_datos()\n",
    "\n",
    "modelo = linear_model.LinearRegression()\n",
    "modelo.fit(x, y)\n",
    "y_pred = modelo.predict(x)\n",
    "print(modelo.coef_[0])\n",
    "b = -modelo.coef_[0][0]*x[0]+y_pred[0]\n",
    "plt.scatter(x, y)\n",
    "plt.xlim([-5, 20])\n",
    "plt.ylim([-5, 20])\n",
    "plt.plot(x, y_pred, color='BLACK')\n",
    "plt.grid(True)\n",
    "x_real = np.array([0, 100])\n",
    "plt.show()\n",
    "if (b < 0):\n",
    "    ecua ='y = {} x {}'\n",
    "else:\n",
    "    ecua ='y = {} x + {}'\n",
    "print('La ecuacion de la recta es: ')\n",
    "print(ecua.format(modelo.coef_[0][0],b[0]))"
   ]
  },
  {
   "cell_type": "code",
   "execution_count": null,
   "metadata": {},
   "outputs": [],
   "source": []
  }
 ],
 "metadata": {
  "kernelspec": {
   "display_name": "Python 3",
   "language": "python",
   "name": "python3"
  },
  "language_info": {
   "codemirror_mode": {
    "name": "ipython",
    "version": 3
   },
   "file_extension": ".py",
   "mimetype": "text/x-python",
   "name": "python",
   "nbconvert_exporter": "python",
   "pygments_lexer": "ipython3",
   "version": "3.8.5"
  }
 },
 "nbformat": 4,
 "nbformat_minor": 4
}
