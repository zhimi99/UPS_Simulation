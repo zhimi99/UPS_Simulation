{
 "cells": [
  {
   "cell_type": "markdown",
   "metadata": {},
   "source": [
    "## UNIVERSIDAD POLITECNICA SALESIANA  --  REGRESION LINEAL"
   ]
  },
  {
   "cell_type": "code",
   "execution_count": 5,
   "metadata": {},
   "outputs": [
    {
     "name": "stdout",
     "output_type": "stream",
     "text": [
      "[[3.45351992]\n",
      " [0.44451678]\n",
      " [4.78444644]\n",
      " [5.6323341 ]\n",
      " [4.22553551]\n",
      " [0.38969941]\n",
      " [7.22174508]\n",
      " [2.50783812]\n",
      " [4.62671157]\n",
      " [5.5773538 ]\n",
      " [7.63066213]\n",
      " [3.99838606]\n",
      " [3.85130179]\n",
      " [9.79553584]\n",
      " [7.97587131]\n",
      " [8.02752535]\n",
      " [5.48578   ]\n",
      " [1.77832715]\n",
      " [9.74779982]\n",
      " [4.14364156]]\n",
      "[[2.96072867]\n",
      " [0.8856426 ]\n",
      " [1.78014428]\n",
      " [9.14899902]\n",
      " [4.34913904]\n",
      " [9.55800221]\n",
      " [2.4162697 ]\n",
      " [7.26658308]\n",
      " [4.31044464]\n",
      " [1.05990418]\n",
      " [1.234051  ]\n",
      " [4.55640067]\n",
      " [7.15005777]\n",
      " [7.83769995]\n",
      " [8.56738076]\n",
      " [6.47075376]\n",
      " [1.40148786]\n",
      " [6.11830523]\n",
      " [8.94192362]\n",
      " [0.78370899]]\n",
      "y = 0.1787x + 3.9346\n"
     ]
    },
    {
     "data": {
      "image/png": "[encoded data removed]",
      "text/plain": [
       "<Figure size 432x288 with 1 Axes>"
      ]
     },
     "metadata": {
      "needs_background": "light"
     },
     "output_type": "display_data"
    }
   ],
   "source": [
    "import matplotlib.pyplot as plt\n",
    "import numpy as np\n",
    "import math as mt\n",
    "import numpy as np\n",
    "\n",
    "def ecuacion_recta(): \n",
    "    x = np.random.random(20)*10 \n",
    "    y = np.random.random(20)*10 \n",
    "    X = np.array(x.reshape((20,1)))\n",
    "    Y = np.array(y.reshape((20,1)))\n",
    "    print(X)\n",
    "    print(Y)\n",
    "    \"\"\"plt.plot(X, Y, 'o')\n",
    "    plt.axhline(y = 0, color = \"blue\")\n",
    "    plt.axvline(x = 0, color = \"blue\")\n",
    "    plt.grid()\n",
    "    plt.show()\"\"\"\n",
    "    \n",
    "    ex=sum(X)\n",
    "    ey=sum(Y)\n",
    "    exy=sum(X*Y)\n",
    "    exx=sum(X*X)\n",
    "    lon=len(X)\n",
    "    m=(lon*exy-ex*ey)/(lon*exx-mt.pow(abs(ex),2))\n",
    "    b=(ey*exx-ex*exy)/(lon*exx-mt.pow(abs(ex),2))\n",
    "    ecua=\"\"\n",
    "    m=round(m[0],4)\n",
    "    b=round(b[0],4)\n",
    "    if (b < 0):\n",
    "        ecua='y = {}x {}'\n",
    "    else:\n",
    "        ecua='y = {}x + {}'\n",
    "    print(ecua.format(m,b))\n",
    "    fu=lambda x: m*x+b\n",
    "    li=np.arange(min(X)-5.0,max(X)+5.0,0.5)\n",
    "    plt.plot(X,Y,'o')\n",
    "    plt.axhline(y=0,color=\"red\")\n",
    "    plt.axvline(x=0,color=\"red\")\n",
    "    plt.plot(li,fu(li))\n",
    "    plt.grid(True)\n",
    "    plt.show()\n",
    "    \n",
    "ecuacion_recta()"
   ]
  },
  {
   "cell_type": "code",
   "execution_count": null,
   "metadata": {},
   "outputs": [],
   "source": []
  }
 ],
 "metadata": {
  "kernelspec": {
   "display_name": "Python 3",
   "language": "python",
   "name": "python3"
  },
  "language_info": {
   "codemirror_mode": {
    "name": "ipython",
    "version": 3
   },
   "file_extension": ".py",
   "mimetype": "text/x-python",
   "name": "python",
   "nbconvert_exporter": "python",
   "pygments_lexer": "ipython3",
   "version": "3.8.5"
  }
 },
 "nbformat": 4,
 "nbformat_minor": 4
}
