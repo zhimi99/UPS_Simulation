{
 "cells": [
  {
   "cell_type": "markdown",
   "metadata": {},
   "source": [
    "## Prueba Pratica de Simulación"
   ]
  },
  {
   "cell_type": "code",
   "execution_count": 75,
   "metadata": {},
   "outputs": [],
   "source": [
    "import pandas as pd\n",
    "import numpy as np\n",
    "from datetime import datetime,timedelta\n",
    "from sklearn.metrics import mean_squared_error\n",
    "from scipy.optimize import curve_fit\n",
    "from scipy.optimize import fsolve\n",
    "from sklearn import linear_model\n",
    "import matplotlib.pyplot as plt\n",
    "%matplotlib inline\n"
   ]
  },
  {
   "cell_type": "code",
   "execution_count": 76,
   "metadata": {},
   "outputs": [
    {
     "data": {
      "text/html": [
       "<div>\n",
       "<style scoped>\n",
       "    .dataframe tbody tr th:only-of-type {\n",
       "        vertical-align: middle;\n",
       "    }\n",
       "\n",
       "    .dataframe tbody tr th {\n",
       "        vertical-align: top;\n",
       "    }\n",
       "\n",
       "    .dataframe thead th {\n",
       "        text-align: right;\n",
       "    }\n",
       "</style>\n",
       "<table border=\"1\" class=\"dataframe\">\n",
       "  <thead>\n",
       "    <tr style=\"text-align: right;\">\n",
       "      <th></th>\n",
       "      <th>fecha</th>\n",
       "      <th>dosis_total</th>\n",
       "      <th>primera_dosis</th>\n",
       "      <th>segunda_dosis</th>\n",
       "      <th>index</th>\n",
       "    </tr>\n",
       "  </thead>\n",
       "  <tbody>\n",
       "    <tr>\n",
       "      <th>0</th>\n",
       "      <td>21/01/2021</td>\n",
       "      <td>0</td>\n",
       "      <td>0</td>\n",
       "      <td>0</td>\n",
       "      <td>0</td>\n",
       "    </tr>\n",
       "    <tr>\n",
       "      <th>1</th>\n",
       "      <td>22/01/2021</td>\n",
       "      <td>108</td>\n",
       "      <td>108</td>\n",
       "      <td>0</td>\n",
       "      <td>1</td>\n",
       "    </tr>\n",
       "    <tr>\n",
       "      <th>2</th>\n",
       "      <td>27/01/2021</td>\n",
       "      <td>2982</td>\n",
       "      <td>2982</td>\n",
       "      <td>0</td>\n",
       "      <td>2</td>\n",
       "    </tr>\n",
       "    <tr>\n",
       "      <th>3</th>\n",
       "      <td>04/02/2021</td>\n",
       "      <td>6228</td>\n",
       "      <td>6228</td>\n",
       "      <td>0</td>\n",
       "      <td>3</td>\n",
       "    </tr>\n",
       "    <tr>\n",
       "      <th>4</th>\n",
       "      <td>17/02/2021</td>\n",
       "      <td>8190</td>\n",
       "      <td>6228</td>\n",
       "      <td>1962</td>\n",
       "      <td>4</td>\n",
       "    </tr>\n",
       "  </tbody>\n",
       "</table>\n",
       "</div>"
      ],
      "text/plain": [
       "        fecha  dosis_total  primera_dosis  segunda_dosis  index\n",
       "0  21/01/2021            0              0              0      0\n",
       "1  22/01/2021          108            108              0      1\n",
       "2  27/01/2021         2982           2982              0      2\n",
       "3  04/02/2021         6228           6228              0      3\n",
       "4  17/02/2021         8190           6228           1962      4"
      ]
     },
     "execution_count": 76,
     "metadata": {},
     "output_type": "execute_result"
    }
   ],
   "source": [
    "url = 'https://raw.githubusercontent.com/andrab/ecuacovid/master/datos_crudos/vacunas/vacunas.csv'\n",
    "\n",
    "df = pd.read_csv(url)\n",
    "df.head()\n",
    "df['index'] = df.index\n",
    "df.head()\n"
   ]
  },
  {
   "cell_type": "code",
   "execution_count": 77,
   "metadata": {},
   "outputs": [
    {
     "data": {
      "text/html": [
       "<div>\n",
       "<style scoped>\n",
       "    .dataframe tbody tr th:only-of-type {\n",
       "        vertical-align: middle;\n",
       "    }\n",
       "\n",
       "    .dataframe tbody tr th {\n",
       "        vertical-align: top;\n",
       "    }\n",
       "\n",
       "    .dataframe thead th {\n",
       "        text-align: right;\n",
       "    }\n",
       "</style>\n",
       "<table border=\"1\" class=\"dataframe\">\n",
       "  <thead>\n",
       "    <tr style=\"text-align: right;\">\n",
       "      <th></th>\n",
       "      <th>fecha</th>\n",
       "      <th>dosis_total</th>\n",
       "      <th>primera_dosis</th>\n",
       "      <th>segunda_dosis</th>\n",
       "      <th>index</th>\n",
       "    </tr>\n",
       "  </thead>\n",
       "  <tbody>\n",
       "    <tr>\n",
       "      <th>45</th>\n",
       "      <td>04/05/2021</td>\n",
       "      <td>1141262</td>\n",
       "      <td>889218</td>\n",
       "      <td>252044</td>\n",
       "      <td>45</td>\n",
       "    </tr>\n",
       "  </tbody>\n",
       "</table>\n",
       "</div>"
      ],
      "text/plain": [
       "         fecha  dosis_total  primera_dosis  segunda_dosis  index\n",
       "45  04/05/2021      1141262         889218         252044     45"
      ]
     },
     "execution_count": 77,
     "metadata": {},
     "output_type": "execute_result"
    }
   ],
   "source": [
    "filt = df[df['fecha'].isin([\"04/05/2021\"])]\n",
    "filt\n"
   ]
  },
  {
   "cell_type": "code",
   "execution_count": null,
   "metadata": {},
   "outputs": [],
   "source": []
  },
  {
   "cell_type": "code",
   "execution_count": 78,
   "metadata": {},
   "outputs": [
    {
     "data": {
      "text/plain": [
       "<AxesSubplot:xlabel='fecha'>"
      ]
     },
     "execution_count": 78,
     "metadata": {},
     "output_type": "execute_result"
    },
    {
     "data": {
      "image/png": "[encoded data removed]",
      "text/plain": [
       "<Figure size 432x288 with 1 Axes>"
      ]
     },
     "metadata": {
      "needs_background": "light"
     },
     "output_type": "display_data"
    },
    {
     "data": {
      "image/png": "[encoded data removed]",
      "text/plain": [
       "<Figure size 432x288 with 1 Axes>"
      ]
     },
     "metadata": {
      "needs_background": "light"
     },
     "output_type": "display_data"
    },
    {
     "data": {
      "image/png": "[encoded data removed]",
      "text/plain": [
       "<Figure size 432x288 with 1 Axes>"
      ]
     },
     "metadata": {
      "needs_background": "light"
     },
     "output_type": "display_data"
    }
   ],
   "source": [
    "df.plot(x ='fecha', y='primera_dosis') \n",
    "df.plot(x ='fecha', y='segunda_dosis')\n",
    "df.plot(x ='fecha', y='dosis_total')"
   ]
  },
  {
   "cell_type": "code",
   "execution_count": 79,
   "metadata": {},
   "outputs": [
    {
     "data": {
      "text/html": [
       "<div>\n",
       "<style scoped>\n",
       "    .dataframe tbody tr th:only-of-type {\n",
       "        vertical-align: middle;\n",
       "    }\n",
       "\n",
       "    .dataframe tbody tr th {\n",
       "        vertical-align: top;\n",
       "    }\n",
       "\n",
       "    .dataframe thead th {\n",
       "        text-align: right;\n",
       "    }\n",
       "</style>\n",
       "<table border=\"1\" class=\"dataframe\">\n",
       "  <thead>\n",
       "    <tr style=\"text-align: right;\">\n",
       "      <th></th>\n",
       "      <th>vaccine</th>\n",
       "      <th>total</th>\n",
       "      <th>arrived_at</th>\n",
       "    </tr>\n",
       "  </thead>\n",
       "  <tbody>\n",
       "    <tr>\n",
       "      <th>0</th>\n",
       "      <td>Pfizer/BioNTech</td>\n",
       "      <td>8190</td>\n",
       "      <td>20/01/2021</td>\n",
       "    </tr>\n",
       "    <tr>\n",
       "      <th>1</th>\n",
       "      <td>Pfizer/BioNTech</td>\n",
       "      <td>16380</td>\n",
       "      <td>17/02/2021</td>\n",
       "    </tr>\n",
       "    <tr>\n",
       "      <th>2</th>\n",
       "      <td>Pfizer/BioNTech</td>\n",
       "      <td>17550</td>\n",
       "      <td>24/02/2021</td>\n",
       "    </tr>\n",
       "    <tr>\n",
       "      <th>3</th>\n",
       "      <td>Pfizer/BioNTech</td>\n",
       "      <td>31590</td>\n",
       "      <td>03/03/2021</td>\n",
       "    </tr>\n",
       "    <tr>\n",
       "      <th>4</th>\n",
       "      <td>Sinovac</td>\n",
       "      <td>20000</td>\n",
       "      <td>06/03/2021</td>\n",
       "    </tr>\n",
       "    <tr>\n",
       "      <th>5</th>\n",
       "      <td>Pfizer/BioNTech</td>\n",
       "      <td>73710</td>\n",
       "      <td>10/03/2021</td>\n",
       "    </tr>\n",
       "    <tr>\n",
       "      <th>6</th>\n",
       "      <td>Oxford/AstraZeneca</td>\n",
       "      <td>84000</td>\n",
       "      <td>17/03/2021</td>\n",
       "    </tr>\n",
       "    <tr>\n",
       "      <th>7</th>\n",
       "      <td>Pfizer/BioNTech</td>\n",
       "      <td>62010</td>\n",
       "      <td>17/03/2021</td>\n",
       "    </tr>\n",
       "    <tr>\n",
       "      <th>8</th>\n",
       "      <td>Pfizer/BioNTech</td>\n",
       "      <td>65520</td>\n",
       "      <td>24/03/2021</td>\n",
       "    </tr>\n",
       "    <tr>\n",
       "      <th>9</th>\n",
       "      <td>Pfizer/BioNTech</td>\n",
       "      <td>66690</td>\n",
       "      <td>31/03/2021</td>\n",
       "    </tr>\n",
       "    <tr>\n",
       "      <th>10</th>\n",
       "      <td>Pfizer/BioNTech</td>\n",
       "      <td>53820</td>\n",
       "      <td>05/04/2021</td>\n",
       "    </tr>\n",
       "    <tr>\n",
       "      <th>11</th>\n",
       "      <td>Sinovac</td>\n",
       "      <td>300000</td>\n",
       "      <td>07/04/2021</td>\n",
       "    </tr>\n",
       "    <tr>\n",
       "      <th>12</th>\n",
       "      <td>Sinovac</td>\n",
       "      <td>700000</td>\n",
       "      <td>10/04/2021</td>\n",
       "    </tr>\n",
       "    <tr>\n",
       "      <th>13</th>\n",
       "      <td>Pfizer/BioNTech</td>\n",
       "      <td>53820</td>\n",
       "      <td>14/04/2021</td>\n",
       "    </tr>\n",
       "    <tr>\n",
       "      <th>14</th>\n",
       "      <td>Pfizer/BioNTech</td>\n",
       "      <td>54990</td>\n",
       "      <td>21/04/2021</td>\n",
       "    </tr>\n",
       "    <tr>\n",
       "      <th>15</th>\n",
       "      <td>Oxford/AstraZeneca</td>\n",
       "      <td>336000</td>\n",
       "      <td>24/04/2021</td>\n",
       "    </tr>\n",
       "    <tr>\n",
       "      <th>16</th>\n",
       "      <td>Pfizer/BioNTech</td>\n",
       "      <td>54990</td>\n",
       "      <td>28/04/2021</td>\n",
       "    </tr>\n",
       "    <tr>\n",
       "      <th>17</th>\n",
       "      <td>Pfizer/BioNTech</td>\n",
       "      <td>100620</td>\n",
       "      <td>04/05/2021</td>\n",
       "    </tr>\n",
       "  </tbody>\n",
       "</table>\n",
       "</div>"
      ],
      "text/plain": [
       "               vaccine   total  arrived_at\n",
       "0      Pfizer/BioNTech    8190  20/01/2021\n",
       "1      Pfizer/BioNTech   16380  17/02/2021\n",
       "2      Pfizer/BioNTech   17550  24/02/2021\n",
       "3      Pfizer/BioNTech   31590  03/03/2021\n",
       "4              Sinovac   20000  06/03/2021\n",
       "5      Pfizer/BioNTech   73710  10/03/2021\n",
       "6   Oxford/AstraZeneca   84000  17/03/2021\n",
       "7      Pfizer/BioNTech   62010  17/03/2021\n",
       "8      Pfizer/BioNTech   65520  24/03/2021\n",
       "9      Pfizer/BioNTech   66690  31/03/2021\n",
       "10     Pfizer/BioNTech   53820  05/04/2021\n",
       "11             Sinovac  300000  07/04/2021\n",
       "12             Sinovac  700000  10/04/2021\n",
       "13     Pfizer/BioNTech   53820  14/04/2021\n",
       "14     Pfizer/BioNTech   54990  21/04/2021\n",
       "15  Oxford/AstraZeneca  336000  24/04/2021\n",
       "16     Pfizer/BioNTech   54990  28/04/2021\n",
       "17     Pfizer/BioNTech  100620  04/05/2021"
      ]
     },
     "execution_count": 79,
     "metadata": {},
     "output_type": "execute_result"
    }
   ],
   "source": [
    "url_fab = 'https://raw.githubusercontent.com/andrab/ecuacovid/master/datos_crudos/vacunas/fabricantes.csv'\n",
    "\n",
    "df_fab = pd.read_csv(url_fab)\n",
    "df_fab"
   ]
  },
  {
   "cell_type": "code",
   "execution_count": 80,
   "metadata": {},
   "outputs": [
    {
     "data": {
      "image/png": "[encoded data removed]",
      "text/plain": [
       "<Figure size 432x288 with 1 Axes>"
      ]
     },
     "metadata": {},
     "output_type": "display_data"
    }
   ],
   "source": [
    "pfizer = df_fab[df_fab['vaccine'].isin(['Pfizer/BioNTech'])]\n",
    "sinovac = df_fab[df_fab['vaccine'].isin(['Sinovac'])]\n",
    "oxford = df_fab[df_fab[\"vaccine\"].isin(['Oxford/AstraZeneca'])]\n",
    "\n",
    "ptotal = pfizer[\"total\"]\n",
    "pdatos = pfizer[\"arrived_at\"]\n",
    "stotal = sinovac[\"total\"]\n",
    "sdatos = sinovac[\"arrived_at\"]\n",
    "ototal = oxford[\"total\"]\n",
    "odatos = oxford[\"arrived_at\"]\n",
    "\n",
    "psum = ptotal.values.sum()\n",
    "ssum = stotal.values.sum()\n",
    "osum = ototal.values.sum()\n",
    "\n",
    "datos = [psum,ssum, osum]\n",
    "facts = ['Pfizer/BioNTech','Sinovac','Oxford/AstraZeneca']\n",
    "plt.pie(datos, labels=facts, autopct=\"%0.2f %%\")\n",
    "plt.title(\"Generar grafico de pie por fabricante de la vacuna\")\n",
    "plt.show()"
   ]
  },
  {
   "cell_type": "code",
   "execution_count": 82,
   "metadata": {},
   "outputs": [
    {
     "name": "stdout",
     "output_type": "stream",
     "text": [
      "Histograma de vacunas por mes de llegada y fabricante\n"
     ]
    },
    {
     "data": {
      "image/png": "[encoded data removed]",
      "text/plain": [
       "<Figure size 432x288 with 1 Axes>"
      ]
     },
     "metadata": {
      "needs_background": "light"
     },
     "output_type": "display_data"
    }
   ],
   "source": [
    "print(\"Histograma de vacunas por mes de llegada y fabricante\")\n",
    "month= df_fab['arrived_at']\n",
    "me = []\n",
    "for m in month:\n",
    "    mes = m.split(\"/\")\n",
    "    me.append(int(mes[1]))\n",
    "df_fab[\"month\"]=me\n",
    "\n",
    "pfi = df_fab[df_fab['vaccine'].isin(['Pfizer/BioNTech'])]\n",
    "pfi = pfi.loc[:,['total','month']]\n",
    "sin = df_fab[df_fab['vaccine'].isin(['Sinovac'])]\n",
    "sin = sin.loc[:,['total', 'month']]\n",
    "oxf = df_fab[df_fab['vaccine'].isin(['Oxford/AstraZeneca'])]\n",
    "oxf = oxf.loc[:,['total', 'month']]\n",
    "\n",
    "plt.xlabel(\"Month\")\n",
    "plt.ylabel(\"Dias\")\n",
    "plt.hist([pfi[\"month\"], sin[\"month\"],oxf['month']], label=['Pfizer','Sinovac','Oxford'])\n",
    "plt.legend(loc=\"best\")\n",
    "plt.show()"
   ]
  },
  {
   "cell_type": "code",
   "execution_count": 83,
   "metadata": {},
   "outputs": [
    {
     "data": {
      "text/html": [
       "<div>\n",
       "<style scoped>\n",
       "    .dataframe tbody tr th:only-of-type {\n",
       "        vertical-align: middle;\n",
       "    }\n",
       "\n",
       "    .dataframe tbody tr th {\n",
       "        vertical-align: top;\n",
       "    }\n",
       "\n",
       "    .dataframe thead th {\n",
       "        text-align: right;\n",
       "    }\n",
       "</style>\n",
       "<table border=\"1\" class=\"dataframe\">\n",
       "  <thead>\n",
       "    <tr style=\"text-align: right;\">\n",
       "      <th></th>\n",
       "      <th>fecha</th>\n",
       "      <th>primera_dosis</th>\n",
       "      <th>segunda_dosis</th>\n",
       "      <th>index</th>\n",
       "      <th>total</th>\n",
       "      <th>mes</th>\n",
       "    </tr>\n",
       "  </thead>\n",
       "  <tbody>\n",
       "    <tr>\n",
       "      <th>0</th>\n",
       "      <td>21/01/2021</td>\n",
       "      <td>0</td>\n",
       "      <td>0</td>\n",
       "      <td>0</td>\n",
       "      <td>0</td>\n",
       "      <td>1</td>\n",
       "    </tr>\n",
       "    <tr>\n",
       "      <th>1</th>\n",
       "      <td>22/01/2021</td>\n",
       "      <td>108</td>\n",
       "      <td>0</td>\n",
       "      <td>1</td>\n",
       "      <td>108</td>\n",
       "      <td>1</td>\n",
       "    </tr>\n",
       "    <tr>\n",
       "      <th>2</th>\n",
       "      <td>27/01/2021</td>\n",
       "      <td>2982</td>\n",
       "      <td>0</td>\n",
       "      <td>2</td>\n",
       "      <td>2982</td>\n",
       "      <td>1</td>\n",
       "    </tr>\n",
       "    <tr>\n",
       "      <th>3</th>\n",
       "      <td>04/02/2021</td>\n",
       "      <td>6228</td>\n",
       "      <td>0</td>\n",
       "      <td>3</td>\n",
       "      <td>6228</td>\n",
       "      <td>2</td>\n",
       "    </tr>\n",
       "    <tr>\n",
       "      <th>4</th>\n",
       "      <td>17/02/2021</td>\n",
       "      <td>6228</td>\n",
       "      <td>1962</td>\n",
       "      <td>4</td>\n",
       "      <td>8190</td>\n",
       "      <td>2</td>\n",
       "    </tr>\n",
       "  </tbody>\n",
       "</table>\n",
       "</div>"
      ],
      "text/plain": [
       "        fecha  primera_dosis  segunda_dosis  index  total  mes\n",
       "0  21/01/2021              0              0      0      0    1\n",
       "1  22/01/2021            108              0      1    108    1\n",
       "2  27/01/2021           2982              0      2   2982    1\n",
       "3  04/02/2021           6228              0      3   6228    2\n",
       "4  17/02/2021           6228           1962      4   8190    2"
      ]
     },
     "execution_count": 83,
     "metadata": {},
     "output_type": "execute_result"
    }
   ],
   "source": [
    "#simulacion\n",
    "#REGRESION LINEAL\n",
    "df_dos = df\n",
    "\n",
    "month= df['fecha']\n",
    "me = []\n",
    "for m in month:\n",
    "    mes = m.split(\"/\")\n",
    "    me.append(int(mes[1]))\n",
    "df_dos[\"total\"] = df[\"dosis_total\"]\n",
    "df_dos[\"mes\"] = me\n",
    "del df_dos[\"dosis_total\"]\n",
    "df_dos.head()"
   ]
  },
  {
   "cell_type": "code",
   "execution_count": 86,
   "metadata": {},
   "outputs": [
    {
     "name": "stdout",
     "output_type": "stream",
     "text": [
      "Coeficientes:  [363963.32219251]\n",
      "Termino Independiente:  -796559.6577540108\n"
     ]
    }
   ],
   "source": [
    "x = list(df.iloc[:,5])\n",
    "y = list(df.iloc[:,4])\n",
    "regr = linear_model.LinearRegression()\n",
    "regr.fit(np.array(x).reshape(-1,1),y)\n",
    "\n",
    "print('Coeficientes: ', regr.coef_)\n",
    "print('Termino Independiente: ', regr.intercept_)#valor donde corta el eje Y -> X=0\n"
   ]
  },
  {
   "cell_type": "code",
   "execution_count": 99,
   "metadata": {},
   "outputs": [
    {
     "name": "stdout",
     "output_type": "stream",
     "text": [
      " Problación 17 268 000  numero de vacunar 19221423\n",
      " Vacunación completa en Años:  4.58  Años \n",
      " Vacunación completa en Meses: 55 meses\n"
     ]
    }
   ],
   "source": [
    "#Vamos a comprobar:\n",
    "# Quiero predecir cuántos \"Casos\" voy a obtener por en el dia 100,\n",
    "# según nuestro modelo, hacemos:\n",
    "n = 55\n",
    "y_prediccion = regr.predict([[n]])\n",
    "pred = int(y_prediccion)\n",
    "if pred >= 17268000:\n",
    "    print(' Problación 17 268 000',' numero de vacunar',pred)\n",
    "    print(' Vacunación completa en Años: ',round(n/12,2),\" Años \\n Vacunación completa en Meses:\",n,'meses')\n",
    "else:\n",
    "    print('vacunados ',pred)"
   ]
  },
  {
   "cell_type": "code",
   "execution_count": 105,
   "metadata": {},
   "outputs": [
    {
     "name": "stdout",
     "output_type": "stream",
     "text": [
      "meses [ 1  2  3  4  5  6  7  8  9 10 11 12 13 14 15 16 17 18 19 20 21 22 23 24\n",
      " 25 26 27 28 29 30 31 32 33 34 35 36 37 38 39 40 41 42 43 44 45 46 47 48\n",
      " 49 50 51 52 53 54]\n"
     ]
    },
    {
     "data": {
      "image/png": "[encoded data removed]",
      "text/plain": [
       "<Figure size 432x288 with 1 Axes>"
      ]
     },
     "metadata": {
      "needs_background": "light"
     },
     "output_type": "display_data"
    }
   ],
   "source": [
    "#Grafica\n",
    "plt.scatter(x, y)\n",
    "x_real = np.array(range(1, 55))\n",
    "print('meses', x_real)\n",
    "plt.plot(x_real, regr.predict(x_real.reshape(-1, 1)), color='red')\n",
    "plt.show()"
   ]
  },
  {
   "cell_type": "code",
   "execution_count": 106,
   "metadata": {},
   "outputs": [
    {
     "name": "stdout",
     "output_type": "stream",
     "text": [
      "[  -5504.71303406  166362.73679778 -523408.97574124  378539.70845193]\n",
      "[[ 1.89190585e+08 -1.78098314e+09  4.99091069e+09 -3.84064974e+09]\n",
      " [-1.78098314e+09  1.69712194e+10 -4.83149453e+10  3.80632142e+10]\n",
      " [ 4.99091069e+09 -4.83149453e+10  1.40686289e+11 -1.15110236e+11]\n",
      " [-3.84064974e+09  3.80632142e+10 -1.15110236e+11  1.01273065e+11]]\n"
     ]
    },
    {
     "data": {
      "image/png": "[encoded data removed]",
      "text/plain": [
       "<Figure size 432x288 with 1 Axes>"
      ]
     },
     "metadata": {
      "needs_background": "light"
     },
     "output_type": "display_data"
    }
   ],
   "source": [
    "#Modelo exponencial\n",
    "\n",
    "from scipy.optimize import curve_fit\n",
    "x = np.array(df[\"mes\"])\n",
    "y = np.array(df[\"total\"])\n",
    "#y[0]=1\n",
    "\n",
    "def func(x, a, b, c, d):\n",
    "    return a*x**3 + b*x**2 +c*x + d\n",
    "\n",
    "res1 , res2 = curve_fit(func,x,y)\n",
    "print(res1)\n",
    "print(res2)\n",
    "\n",
    "#Grafica\n",
    "plt.plot(x,y)\n",
    "plt.plot(x,y, label=\"Datos\")\n",
    "\n",
    "plt.plot(x, func(x, *res1), label=\"Curva ajustada\")\n",
    "\n",
    "plt.legend(loc='upper left')\n",
    "plt.show()"
   ]
  },
  {
   "cell_type": "code",
   "execution_count": 107,
   "metadata": {},
   "outputs": [
    {
     "data": {
      "text/plain": [
       "[<matplotlib.lines.Line2D at 0x7f8d032f8430>]"
      ]
     },
     "execution_count": 107,
     "metadata": {},
     "output_type": "execute_result"
    },
    {
     "data": {
      "image/png": "[encoded data removed]",
      "text/plain": [
       "<Figure size 432x288 with 1 Axes>"
      ]
     },
     "metadata": {
      "needs_background": "light"
     },
     "output_type": "display_data"
    }
   ],
   "source": [
    "#Modelo polinomico\n",
    "\n",
    "from sklearn.linear_model import LinearRegression\n",
    "from sklearn.preprocessing import PolynomialFeatures\n",
    "\n",
    "x = x.reshape(-1,1)\n",
    "y = y.reshape(-1,1)\n",
    "\n",
    "model = LinearRegression()\n",
    "pre_proces = PolynomialFeatures(degree=3)\n",
    "\n",
    "x_polin = pre_proces.fit_transform(x)\n",
    "\n",
    "pr_model = LinearRegression()\n",
    "pr_model.fit(x_polin,y)\n",
    "y_pred = pr_model.predict(x_polin)\n",
    "\n",
    "plt.scatter(x,y,c=\"black\")\n",
    "plt.xlabel(\"Mes\")\n",
    "plt.ylabel(\"vacunados\")\n",
    "plt.plot(x,y_pred)"
   ]
  },
  {
   "cell_type": "code",
   "execution_count": 108,
   "metadata": {},
   "outputs": [
    {
     "data": {
      "text/html": [
       "<div>\n",
       "<style scoped>\n",
       "    .dataframe tbody tr th:only-of-type {\n",
       "        vertical-align: middle;\n",
       "    }\n",
       "\n",
       "    .dataframe tbody tr th {\n",
       "        vertical-align: top;\n",
       "    }\n",
       "\n",
       "    .dataframe thead th {\n",
       "        text-align: right;\n",
       "    }\n",
       "</style>\n",
       "<table border=\"1\" class=\"dataframe\">\n",
       "  <thead>\n",
       "    <tr style=\"text-align: right;\">\n",
       "      <th></th>\n",
       "      <th>REGION_CORTO</th>\n",
       "      <th>COD_COMUNA_FINAL</th>\n",
       "      <th>FECHA_INMUNIZACION</th>\n",
       "      <th>SUM_of_SUM_of_1aDOSIS</th>\n",
       "      <th>SUM_of_SUM_of_2aDOSIS</th>\n",
       "      <th>mes</th>\n",
       "      <th>total</th>\n",
       "    </tr>\n",
       "  </thead>\n",
       "  <tbody>\n",
       "    <tr>\n",
       "      <th>0</th>\n",
       "      <td>Metropolitana  Santiago</td>\n",
       "      <td>13101</td>\n",
       "      <td>24/12/2020</td>\n",
       "      <td>280.0</td>\n",
       "      <td>NaN</td>\n",
       "      <td>12</td>\n",
       "      <td>NaN</td>\n",
       "    </tr>\n",
       "    <tr>\n",
       "      <th>1</th>\n",
       "      <td>Metropolitana  Santiago</td>\n",
       "      <td>13108</td>\n",
       "      <td>24/12/2020</td>\n",
       "      <td>70.0</td>\n",
       "      <td>NaN</td>\n",
       "      <td>12</td>\n",
       "      <td>NaN</td>\n",
       "    </tr>\n",
       "    <tr>\n",
       "      <th>2</th>\n",
       "      <td>Metropolitana  Santiago</td>\n",
       "      <td>13123</td>\n",
       "      <td>24/12/2020</td>\n",
       "      <td>70.0</td>\n",
       "      <td>NaN</td>\n",
       "      <td>12</td>\n",
       "      <td>NaN</td>\n",
       "    </tr>\n",
       "    <tr>\n",
       "      <th>3</th>\n",
       "      <td>Bíobío</td>\n",
       "      <td>8101</td>\n",
       "      <td>25/12/2020</td>\n",
       "      <td>406.0</td>\n",
       "      <td>NaN</td>\n",
       "      <td>12</td>\n",
       "      <td>NaN</td>\n",
       "    </tr>\n",
       "    <tr>\n",
       "      <th>4</th>\n",
       "      <td>Bíobío</td>\n",
       "      <td>8107</td>\n",
       "      <td>25/12/2020</td>\n",
       "      <td>45.0</td>\n",
       "      <td>NaN</td>\n",
       "      <td>12</td>\n",
       "      <td>NaN</td>\n",
       "    </tr>\n",
       "    <tr>\n",
       "      <th>...</th>\n",
       "      <td>...</td>\n",
       "      <td>...</td>\n",
       "      <td>...</td>\n",
       "      <td>...</td>\n",
       "      <td>...</td>\n",
       "      <td>...</td>\n",
       "      <td>...</td>\n",
       "    </tr>\n",
       "    <tr>\n",
       "      <th>27689</th>\n",
       "      <td>Ñuble</td>\n",
       "      <td>16301</td>\n",
       "      <td>13/05/2021</td>\n",
       "      <td>179.0</td>\n",
       "      <td>124.0</td>\n",
       "      <td>5</td>\n",
       "      <td>303.0</td>\n",
       "    </tr>\n",
       "    <tr>\n",
       "      <th>27690</th>\n",
       "      <td>Ñuble</td>\n",
       "      <td>16302</td>\n",
       "      <td>13/05/2021</td>\n",
       "      <td>137.0</td>\n",
       "      <td>74.0</td>\n",
       "      <td>5</td>\n",
       "      <td>211.0</td>\n",
       "    </tr>\n",
       "    <tr>\n",
       "      <th>27691</th>\n",
       "      <td>Ñuble</td>\n",
       "      <td>16303</td>\n",
       "      <td>13/05/2021</td>\n",
       "      <td>3.0</td>\n",
       "      <td>7.0</td>\n",
       "      <td>5</td>\n",
       "      <td>10.0</td>\n",
       "    </tr>\n",
       "    <tr>\n",
       "      <th>27692</th>\n",
       "      <td>Ñuble</td>\n",
       "      <td>16304</td>\n",
       "      <td>13/05/2021</td>\n",
       "      <td>20.0</td>\n",
       "      <td>12.0</td>\n",
       "      <td>5</td>\n",
       "      <td>32.0</td>\n",
       "    </tr>\n",
       "    <tr>\n",
       "      <th>27693</th>\n",
       "      <td>Ñuble</td>\n",
       "      <td>16305</td>\n",
       "      <td>13/05/2021</td>\n",
       "      <td>56.0</td>\n",
       "      <td>23.0</td>\n",
       "      <td>5</td>\n",
       "      <td>79.0</td>\n",
       "    </tr>\n",
       "  </tbody>\n",
       "</table>\n",
       "<p>27694 rows × 7 columns</p>\n",
       "</div>"
      ],
      "text/plain": [
       "                  REGION_CORTO  COD_COMUNA_FINAL FECHA_INMUNIZACION  \\\n",
       "0      Metropolitana  Santiago             13101         24/12/2020   \n",
       "1      Metropolitana  Santiago             13108         24/12/2020   \n",
       "2      Metropolitana  Santiago             13123         24/12/2020   \n",
       "3                       Bíobío              8101         25/12/2020   \n",
       "4                       Bíobío              8107         25/12/2020   \n",
       "...                        ...               ...                ...   \n",
       "27689                    Ñuble             16301         13/05/2021   \n",
       "27690                    Ñuble             16302         13/05/2021   \n",
       "27691                    Ñuble             16303         13/05/2021   \n",
       "27692                    Ñuble             16304         13/05/2021   \n",
       "27693                    Ñuble             16305         13/05/2021   \n",
       "\n",
       "       SUM_of_SUM_of_1aDOSIS  SUM_of_SUM_of_2aDOSIS  mes  total  \n",
       "0                      280.0                    NaN   12    NaN  \n",
       "1                       70.0                    NaN   12    NaN  \n",
       "2                       70.0                    NaN   12    NaN  \n",
       "3                      406.0                    NaN   12    NaN  \n",
       "4                       45.0                    NaN   12    NaN  \n",
       "...                      ...                    ...  ...    ...  \n",
       "27689                  179.0                  124.0    5  303.0  \n",
       "27690                  137.0                   74.0    5  211.0  \n",
       "27691                    3.0                    7.0    5   10.0  \n",
       "27692                   20.0                   12.0    5   32.0  \n",
       "27693                   56.0                   23.0    5   79.0  \n",
       "\n",
       "[27694 rows x 7 columns]"
      ]
     },
     "execution_count": 108,
     "metadata": {},
     "output_type": "execute_result"
    }
   ],
   "source": [
    "#Datos de vacunación en Estados Unidos\n",
    "\n",
    "url_eu = 'https://raw.githubusercontent.com/MinCiencia/Datos-COVID19/master/input/Vacunacion/WORK_ARCHIVO_1.csv'\n",
    "df_eu = pd.read_csv(url_eu,sep=\";\",encoding=\"latin-1\")\n",
    "month= df_eu['FECHA_INMUNIZACION']\n",
    "me = []\n",
    "for m in month:\n",
    "    mes = m.split(\"/\")\n",
    "    me.append(int(mes[1]))\n",
    "df_eu[\"mes\"]=me\n",
    "\n",
    "tot = np.array(df_eu[\"SUM_of_SUM_of_1aDOSIS\"])+np.array(df_eu['SUM_of_SUM_of_2aDOSIS'])\n",
    "df_eu[\"total\"]=tot\n",
    "df_eu\n"
   ]
  },
  {
   "cell_type": "code",
   "execution_count": 110,
   "metadata": {},
   "outputs": [
    {
     "data": {
      "text/plain": [
       "<AxesSubplot:xlabel='mes'>"
      ]
     },
     "execution_count": 110,
     "metadata": {},
     "output_type": "execute_result"
    },
    {
     "data": {
      "image/png": "[encoded data removed]",
      "text/plain": [
       "<Figure size 432x288 with 1 Axes>"
      ]
     },
     "metadata": {
      "needs_background": "light"
     },
     "output_type": "display_data"
    },
    {
     "data": {
      "image/png": "[encoded data removed]",
      "text/plain": [
       "<Figure size 432x288 with 1 Axes>"
      ]
     },
     "metadata": {
      "needs_background": "light"
     },
     "output_type": "display_data"
    },
    {
     "data": {
      "image/png": "[encoded data removed]",
      "text/plain": [
       "<Figure size 432x288 with 1 Axes>"
      ]
     },
     "metadata": {
      "needs_background": "light"
     },
     "output_type": "display_data"
    }
   ],
   "source": [
    "df_eu.plot(x=\"FECHA_INMUNIZACION\", y =\"SUM_of_SUM_of_1aDOSIS\", label=\"Primera dosis\")\n",
    "df_eu.plot(x='FECHA_INMUNIZACION', y=\"SUM_of_SUM_of_2aDOSIS\", label=\"Segunda dosis\")\n",
    "df_eu.plot(x=\"mes\", y =\"total\", label=\"Total\")"
   ]
  },
  {
   "cell_type": "code",
   "execution_count": 111,
   "metadata": {},
   "outputs": [
    {
     "name": "stdout",
     "output_type": "stream",
     "text": [
      "COMPARACION EEUU VS ECUADOR\n"
     ]
    },
    {
     "data": {
      "text/plain": [
       "<AxesSubplot:xlabel='FECHA_INMUNIZACION'>"
      ]
     },
     "execution_count": 111,
     "metadata": {},
     "output_type": "execute_result"
    },
    {
     "data": {
      "image/png": "[encoded data removed]",
      "text/plain": [
       "<Figure size 432x288 with 1 Axes>"
      ]
     },
     "metadata": {
      "needs_background": "light"
     },
     "output_type": "display_data"
    },
    {
     "data": {
      "image/png": "[encoded data removed]",
      "text/plain": [
       "<Figure size 432x288 with 1 Axes>"
      ]
     },
     "metadata": {
      "needs_background": "light"
     },
     "output_type": "display_data"
    }
   ],
   "source": [
    "print('COMPARACION EEUU VS ECUADOR')\n",
    "\n",
    "#Ecuador\n",
    "df.plot(x='fecha', y =\"total\", label=\"Dosis Ecuador\")\n",
    "\n",
    "#Estados Unidos\n",
    "\n",
    "df_eu.plot(x='FECHA_INMUNIZACION', y=\"SUM_of_SUM_of_2aDOSIS\", label=\"Dosis EEUU\")\n"
   ]
  },
  {
   "cell_type": "code",
   "execution_count": null,
   "metadata": {},
   "outputs": [],
   "source": []
  }
 ],
 "metadata": {
  "kernelspec": {
   "display_name": "Python 3",
   "language": "python",
   "name": "python3"
  },
  "language_info": {
   "codemirror_mode": {
    "name": "ipython",
    "version": 3
   },
   "file_extension": ".py",
   "mimetype": "text/x-python",
   "name": "python",
   "nbconvert_exporter": "python",
   "pygments_lexer": "ipython3",
   "version": "3.8.5"
  }
 },
 "nbformat": 4,
 "nbformat_minor": 4
}
