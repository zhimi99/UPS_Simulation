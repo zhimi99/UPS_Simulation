{
 "cells": [
  {
   "cell_type": "markdown",
   "metadata": {
    "hide_input": true
   },
   "source": [
    "#  UNIVERSIDAD POLITÉCNICA SALESIANA\n"
   ]
  },
  {
   "cell_type": "markdown",
   "metadata": {},
   "source": [
    "## Desarrollo "
   ]
  },
  {
   "cell_type": "code",
   "execution_count": 15,
   "metadata": {},
   "outputs": [],
   "source": [
    "import numpy\n",
    "import random\n",
    "import simpy\n",
    "\n",
    "# Maximo de vehiculos que puede recibir el negocio\n",
    "MAX_VEHICULOS     = 57\n",
    "# Total de maquinas de lavado con que cuenta el negocio\n",
    "NUM_MAQUINAS      = 3\n",
    "# Tiempo que tarda en lavarse un vehiculo (minutos)\n",
    "TIEMPO_LAVADO     = 7 \n",
    "# Intervalo de tiempo en que llegan vehiculos (minutos)\n",
    "INTERVALO_LLEGADA = 9\n",
    "# Tiempo de simulación\n",
    "TIEMPO_SIMULACION = 23"
   ]
  },
  {
   "cell_type": "code",
   "execution_count": 16,
   "metadata": {
    "hide_input": false
   },
   "outputs": [],
   "source": [
    "class Lavanderia():\n",
    "    \n",
    "    def __init__ (self,enviroment,num_maquinas,tiempo_lavado):\n",
    "        # Guardamos como variable el entorno de ejecucion\n",
    "        self.env = enviroment\n",
    "        # Creamos el recurso que representa las maquinas\n",
    "        self.maquinas = simpy.Resource(enviroment, num_maquinas)\n",
    "        # Variable para el tiempo de lavado\n",
    "        self.tiempo_lavado = tiempo_lavado\n",
    "     \n",
    "    def lavar_vehiculo(self,vehiculo):\n",
    "        # Este metodo representa el proceso de lavado del vehículo.\n",
    "        # Se ingresa el vehículo y se lava\n",
    "        \n",
    "        # Simulamos el tiempo que tarda en lavarse el vehiculo\n",
    "        # Es importante notar que la instruccion \"yield\" es distinta de \"sleep\"\n",
    "        # ya que esta ultima bloquea el hilo de ejecucion durante 't' unidades de tiempo,\n",
    "        # mientras que 'yield' no bloquea el hilo de ejecucion, solo lo suspende mientras\n",
    "        # el evento de 'lavado' se realice\n",
    "        yield self.env.timeout(TIEMPO_LAVADO)\n",
    "        print(\"Lavando el vehículo {}\".format(vehiculo))\n",
    "    \n",
    "    def llegada_vehiculo(self,vehiculo):\n",
    "        # Usamos el reloj de la simulacion (env.now()) para indicar a la\n",
    "        # hora que llega el vehiculo con el nombre pasado como parametro\n",
    "        print('Llega vehiculo: %s a la hora %.2f.' % (vehiculo, self.env.now))\n",
    "        # Especificamos que vamos a usar un recurso (Resource) que representa\n",
    "        # la maquina de lavado\n",
    "        with self.maquinas.request() as maquina:\n",
    "            # Ocupamos la maquina de lavado\n",
    "            yield maquina\n",
    "            # Indicamos que vehiculo entra a la lavanderia\n",
    "            print('Entra vehiculo a lavarse: %s a la hora %.2f.' % (vehiculo, env.now))\n",
    "            # Procesamos la operacion de lavado\n",
    "            yield env.process(self.lavar_vehiculo(vehiculo))\n",
    "            # Una vez que termina la llamada con 'yield', se indica que se ha lavado el vehiculo\n",
    "            print('Vehiculo [%s] lavado a las %.2f.' % (vehiculo, env.now))\n",
    "    \n",
    "\n",
    "class Simulacion():\n",
    "    \n",
    "    def __init__(self,inicial):\n",
    "        self.inicial = inicial\n",
    "    \n",
    "    def ejecutar_simulacion(self,env, num_maquinas, tiempo_lavado, intervalo):\n",
    "        lavanderia=Lavanderia(env, num_maquinas, tiempo_lavado)\n",
    "        self.inicializar_vehiculos(env,lavanderia)\n",
    "        while True:\n",
    "            yield env.timeout(random.randint(intervalo-2, intervalo+2))\n",
    "            self.inicial+=1\n",
    "            env.process(lavanderia.llegada_vehiculo('Vehiculo-%d'%(self.inicial)))\n",
    "    \n",
    "    \n",
    "    def inicializar_vehiculos(self,env,lavanderia):\n",
    "        for i in range(self.inicial):\n",
    "            env.process(lavanderia.llegada_vehiculo('Vehiculo-%d'%(i+1)))\n"
   ]
  },
  {
   "cell_type": "code",
   "execution_count": 17,
   "metadata": {
    "scrolled": false
   },
   "outputs": [
    {
     "name": "stdout",
     "output_type": "stream",
     "text": [
      "********** Lavanderia UPS **********\n",
      "Llega vehiculo: Vehiculo-1 a la hora 0.00.\n",
      "Llega vehiculo: Vehiculo-2 a la hora 0.00.\n",
      "Llega vehiculo: Vehiculo-3 a la hora 0.00.\n",
      "Entra vehiculo a lavarse: Vehiculo-1 a la hora 0.00.\n",
      "Entra vehiculo a lavarse: Vehiculo-2 a la hora 0.00.\n",
      "Entra vehiculo a lavarse: Vehiculo-3 a la hora 0.00.\n",
      "Lavando el vehículo Vehiculo-1\n",
      "Lavando el vehículo Vehiculo-2\n",
      "Lavando el vehículo Vehiculo-3\n",
      "Vehiculo [Vehiculo-1] lavado a las 7.00.\n",
      "Vehiculo [Vehiculo-2] lavado a las 7.00.\n",
      "Vehiculo [Vehiculo-3] lavado a las 7.00.\n",
      "Llega vehiculo: Vehiculo-4 a la hora 9.00.\n",
      "Entra vehiculo a lavarse: Vehiculo-4 a la hora 9.00.\n",
      "Lavando el vehículo Vehiculo-4\n",
      "Vehiculo [Vehiculo-4] lavado a las 16.00.\n",
      "Llega vehiculo: Vehiculo-5 a la hora 18.00.\n",
      "Entra vehiculo a lavarse: Vehiculo-5 a la hora 18.00.\n"
     ]
    }
   ],
   "source": [
    "print('*'*10,'Lavanderia UPS','*'*10)\n",
    "random.seed(77)\n",
    "\n",
    "# Creamos el entorno de simulacion\n",
    "env=simpy.Environment()\n",
    "simulacion = Simulacion(3)\n",
    "env.process(simulacion.ejecutar_simulacion(env, NUM_MAQUINAS, TIEMPO_LAVADO, INTERVALO_LLEGADA))\n",
    "# Ejecutamos el proceso durante el tiempo de simulacion\n",
    "env.run(until = TIEMPO_SIMULACION)"
   ]
  },
  {
   "cell_type": "markdown",
   "metadata": {},
   "source": [
    "- Agregar un tiempo de espera entre la llegada del vehiculo y la llegada a la maquina de lavado con un intervalo (1,5)\n",
    "\n",
    "Procedemos a crear un método que nos permita saber el tiempo que se demorará el vehículo en llegar a la máquina de lavado a partir de su llegada inicial, para ello modificamos la clase **Lavandería()** indicando un número aleatorio de **1 a 5**."
   ]
  },
  {
   "cell_type": "code",
   "execution_count": 18,
   "metadata": {
    "hide_input": false
   },
   "outputs": [],
   "source": [
    "class Lavanderia():\n",
    "    \n",
    "    def __init__ (self,enviroment,num_maquinas,tiempo_lavado):\n",
    "        self.env = enviroment\n",
    "        self.maquinas = simpy.Resource(enviroment, num_maquinas)\n",
    "        self.tiempo_lavado = tiempo_lavado\n",
    "     \n",
    "    def lavar_vehiculo(self,vehiculo):\n",
    "        yield self.env.timeout(TIEMPO_LAVADO)\n",
    "        print(\"Lavando el vehículo {}\".format(vehiculo))\n",
    "    \n",
    "    def llegada_al_lavado(self,vehiculo,espera):\n",
    "        yield self.env.timeout(espera)\n",
    "    \n",
    "    def llegada_vehiculo(self,vehiculo):\n",
    "        with self.maquinas.request() as maquina:\n",
    "            yield maquina\n",
    "            \n",
    "            espera = random.randint(1,5)\n",
    "            yield env.process(self.llegada_al_lavado(vehiculo,espera))\n",
    "            \n",
    "            print('Vehiculo empieza transporte: %s a la hora %.2f.'% (vehiculo, env.now-(espera)))\n",
    "            print('Entra vehiculo a lavarse: %s a la hora %.2f.' % (vehiculo, env.now))\n",
    "            \n",
    "            yield env.process(self.lavar_vehiculo(vehiculo))\n",
    "            print('Vehiculo [%s] lavado a las %.2f.' % (vehiculo, env.now))"
   ]
  },
  {
   "cell_type": "code",
   "execution_count": 19,
   "metadata": {},
   "outputs": [
    {
     "name": "stdout",
     "output_type": "stream",
     "text": [
      "********** UPS **********\n",
      "Vehiculo empieza transporte: Vehiculo-2 a la hora 0.00.\n",
      "Entra vehiculo a lavarse: Vehiculo-2 a la hora 2.00.\n",
      "Vehiculo empieza transporte: Vehiculo-3 a la hora 0.00.\n",
      "Entra vehiculo a lavarse: Vehiculo-3 a la hora 2.00.\n",
      "Vehiculo empieza transporte: Vehiculo-1 a la hora 0.00.\n",
      "Entra vehiculo a lavarse: Vehiculo-1 a la hora 3.00.\n",
      "Lavando el vehículo Vehiculo-2\n",
      "Lavando el vehículo Vehiculo-3\n",
      "Vehiculo [Vehiculo-2] lavado a las 9.00.\n",
      "Vehiculo [Vehiculo-3] lavado a las 9.00.\n",
      "Lavando el vehículo Vehiculo-1\n",
      "Vehiculo [Vehiculo-1] lavado a las 10.00.\n",
      "Vehiculo empieza transporte: Vehiculo-4 a la hora 9.00.\n",
      "Entra vehiculo a lavarse: Vehiculo-4 a la hora 10.00.\n",
      "Vehiculo empieza transporte: Vehiculo-5 a la hora 9.00.\n",
      "Entra vehiculo a lavarse: Vehiculo-5 a la hora 12.00.\n",
      "Vehiculo empieza transporte: Vehiculo-6 a la hora 10.00.\n",
      "Entra vehiculo a lavarse: Vehiculo-6 a la hora 14.00.\n",
      "Lavando el vehículo Vehiculo-4\n",
      "Vehiculo [Vehiculo-4] lavado a las 17.00.\n",
      "Lavando el vehículo Vehiculo-5\n",
      "Vehiculo [Vehiculo-5] lavado a las 19.00.\n",
      "Lavando el vehículo Vehiculo-6\n",
      "Vehiculo [Vehiculo-6] lavado a las 21.00.\n",
      "Vehiculo empieza transporte: Vehiculo-7 a la hora 17.00.\n",
      "Entra vehiculo a lavarse: Vehiculo-7 a la hora 22.00.\n"
     ]
    }
   ],
   "source": [
    "print('*'*10,'UPS','*'*10)\n",
    "random.seed(77)\n",
    "\n",
    "env=simpy.Environment()\n",
    "simulacion = Simulacion(5)\n",
    "env.process(simulacion.ejecutar_simulacion(env, NUM_MAQUINAS, TIEMPO_LAVADO, INTERVALO_LLEGADA))\n",
    "env.run(until = TIEMPO_SIMULACION)"
   ]
  },
  {
   "cell_type": "markdown",
   "metadata": {},
   "source": [
    "- Identificar el número de máquina dentro de cada proceso\n",
    "Para saber en que máquina esta el vehículo y también saber en que máquina entra un nuevo vehículo y cual se queda libre necesitamos modificar la clase Lavanderia()"
   ]
  },
  {
   "cell_type": "code",
   "execution_count": 20,
   "metadata": {},
   "outputs": [],
   "source": [
    "class Lavanderia():\n",
    "    \n",
    "    def __init__ (self,enviroment,num_maquinas,tiempo_lavado):\n",
    "        self.env = enviroment\n",
    "        self.maquinas = simpy.Resource(enviroment, num_maquinas)\n",
    "        self.tiempo_lavado = tiempo_lavado\n",
    "        self.maquinas_uso = {'machine_{}'.format(i+1):False for i in range(num_maquinas)}\n",
    "    \n",
    "     \n",
    "    def lavar_vehiculo(self,vehiculo):\n",
    "        yield self.env.timeout(TIEMPO_LAVADO)\n",
    "        print(\"Lavando el vehículo {}\".format(vehiculo))\n",
    "    \n",
    "    def llegada_al_lavado(self,vehiculo,espera):\n",
    "        yield self.env.timeout(espera)\n",
    "    \n",
    "    def usar_maquina(self):\n",
    "        maquina_nombre=''\n",
    "        for maquina in self.maquinas_uso.items():\n",
    "            if(maquina[1]==False):\n",
    "                self.maquinas_uso[maquina[0]]=True\n",
    "                maquina_nombre=maquina[0]\n",
    "                break\n",
    "        return maquina_nombre\n",
    "    \n",
    "    def desocupar_maquina(self,key):\n",
    "        self.maquinas_uso[key]=False\n",
    "    \n",
    "    def llegada_vehiculo(self,vehiculo):\n",
    "        with self.maquinas.request() as maquina:\n",
    "            yield maquina\n",
    "            maquina_nombre = self.usar_maquina()\n",
    "            espera = random.randint(1,5)\n",
    "            yield env.process(self.llegada_al_lavado(vehiculo,espera))\n",
    "            print('Vehiculo empieza transporte en la maquina %s: %s a la hora %.2f.'% (maquina_nombre,vehiculo, env.now-(espera)))\n",
    "            print('Entra vehiculo a lavarse: %s a la hora %.2f.' % (vehiculo, env.now))\n",
    "            \n",
    "            yield env.process(self.lavar_vehiculo(vehiculo))\n",
    "            self.desocupar_maquina(maquina_nombre)\n",
    "            print('Vehiculo [%s] lavado en la %s a las %.2f.' % (vehiculo,maquina_nombre, env.now))"
   ]
  },
  {
   "cell_type": "code",
   "execution_count": 21,
   "metadata": {},
   "outputs": [
    {
     "name": "stdout",
     "output_type": "stream",
     "text": [
      "********** Lavanderia UPS **********\n",
      "Vehiculo empieza transporte en la maquina machine_2: Vehiculo-2 a la hora 0.00.\n",
      "Entra vehiculo a lavarse: Vehiculo-2 a la hora 2.00.\n",
      "Vehiculo empieza transporte en la maquina machine_3: Vehiculo-3 a la hora 0.00.\n",
      "Entra vehiculo a lavarse: Vehiculo-3 a la hora 2.00.\n",
      "Vehiculo empieza transporte en la maquina machine_1: Vehiculo-1 a la hora 0.00.\n",
      "Entra vehiculo a lavarse: Vehiculo-1 a la hora 3.00.\n",
      "Lavando el vehículo Vehiculo-2\n",
      "Lavando el vehículo Vehiculo-3\n",
      "Vehiculo [Vehiculo-2] lavado en la machine_2 a las 9.00.\n",
      "Vehiculo [Vehiculo-3] lavado en la machine_3 a las 9.00.\n",
      "Lavando el vehículo Vehiculo-1\n",
      "Vehiculo [Vehiculo-1] lavado en la machine_1 a las 10.00.\n",
      "Vehiculo empieza transporte en la maquina machine_2: Vehiculo-4 a la hora 9.00.\n",
      "Entra vehiculo a lavarse: Vehiculo-4 a la hora 10.00.\n",
      "Lavando el vehículo Vehiculo-4\n",
      "Vehiculo [Vehiculo-4] lavado en la machine_2 a las 17.00.\n",
      "Vehiculo empieza transporte en la maquina machine_1: Vehiculo-5 a la hora 17.00.\n",
      "Entra vehiculo a lavarse: Vehiculo-5 a la hora 21.00.\n"
     ]
    }
   ],
   "source": [
    "print('*'*10,'Lavanderia UPS','*'*10)\n",
    "random.seed(77)\n",
    "\n",
    "env=simpy.Environment()\n",
    "simulacion = Simulacion(3)\n",
    "env.process(simulacion.ejecutar_simulacion(env, NUM_MAQUINAS, TIEMPO_LAVADO, INTERVALO_LLEGADA))\n",
    "env.run(until = TIEMPO_SIMULACION)"
   ]
  },
  {
   "cell_type": "markdown",
   "metadata": {},
   "source": [
    "Ahora finalmente nos falta identificar el tiempo que le toma al vehículo en salir del local una vez que acabó de ser lavado en la máquina."
   ]
  },
  {
   "cell_type": "markdown",
   "metadata": {},
   "source": [
    "- Agregar y modificar el tiempo de salir de la máquina a la puerta principal del negocio con un intervalo (2,5)"
   ]
  },
  {
   "cell_type": "code",
   "execution_count": 22,
   "metadata": {},
   "outputs": [],
   "source": [
    "class Lavanderia():\n",
    "    \n",
    "    def __init__ (self,enviroment,num_maquinas,tiempo_lavado):\n",
    "        self.env = enviroment\n",
    "        self.maquinas = simpy.Resource(enviroment, num_maquinas)\n",
    "        self.tiempo_lavado = tiempo_lavado\n",
    "        self.maquinas_uso = {'machine_{}'.format(i+1):False for i in range(num_maquinas)}\n",
    "    \n",
    "     \n",
    "    def lavar_vehiculo(self,vehiculo):\n",
    "        yield self.env.timeout(TIEMPO_LAVADO)\n",
    "        print(\"Lavando el vehículo {}\".format(vehiculo))\n",
    "    \n",
    "    def llegada_al_lavado(self,vehiculo,espera):\n",
    "        yield self.env.timeout(espera)\n",
    "    \n",
    "    def salida_local(self,espera):\n",
    "        yield self.env.timeout(espera)\n",
    "        \n",
    "    def usar_maquina(self):\n",
    "        maquina_nombre=''\n",
    "        for maquina in self.maquinas_uso.items():\n",
    "            if(maquina[1]==False):\n",
    "                self.maquinas_uso[maquina[0]]=True\n",
    "                maquina_nombre=maquina[0]\n",
    "                break\n",
    "        return maquina_nombre\n",
    "    \n",
    "    def desocupar_maquina(self,key):\n",
    "        self.maquinas_uso[key]=False\n",
    "    \n",
    "    def llegada_vehiculo(self,vehiculo):\n",
    "        with self.maquinas.request() as maquina:\n",
    "            yield maquina\n",
    "            maquina_nombre = self.usar_maquina()\n",
    "            espera = random.randint(1,5)\n",
    "            yield env.process(self.llegada_al_lavado(vehiculo,espera))\n",
    "            print('Vehiculo empieza transporte en la maquina %s: %s a la hora %.2f.'% (maquina_nombre,vehiculo, env.now-(espera)))\n",
    "            print('Entra vehiculo a lavarse: %s a la hora %.2f.' % (vehiculo, env.now))\n",
    "            \n",
    "            yield env.process(self.lavar_vehiculo(vehiculo))\n",
    "            self.desocupar_maquina(maquina_nombre)        \n",
    "            print('Vehiculo [%s] lavado en la %s a las %.2f.' % (vehiculo,maquina_nombre, env.now))\n",
    "            salida = random.randint(2,5)\n",
    "            yield env.process(self.salida_local(salida))\n",
    "            print('Vehiculo empieza transporte a la salida : %s a la hora %.2f.'% (vehiculo, env.now-(salida)))\n",
    "            print('Vehiculo  sale : %s a la hora %.2f.'% (vehiculo, env.now))"
   ]
  },
  {
   "cell_type": "code",
   "execution_count": 23,
   "metadata": {},
   "outputs": [
    {
     "name": "stdout",
     "output_type": "stream",
     "text": [
      "********** Lavanderia UPS **********\n",
      "Vehiculo empieza transporte en la maquina machine_2: Vehiculo-2 a la hora 0.00.\n",
      "Entra vehiculo a lavarse: Vehiculo-2 a la hora 2.00.\n",
      "Vehiculo empieza transporte en la maquina machine_3: Vehiculo-3 a la hora 0.00.\n",
      "Entra vehiculo a lavarse: Vehiculo-3 a la hora 2.00.\n",
      "Vehiculo empieza transporte en la maquina machine_1: Vehiculo-1 a la hora 0.00.\n",
      "Entra vehiculo a lavarse: Vehiculo-1 a la hora 3.00.\n",
      "Lavando el vehículo Vehiculo-2\n",
      "Lavando el vehículo Vehiculo-3\n",
      "Vehiculo [Vehiculo-2] lavado en la machine_2 a las 9.00.\n",
      "Vehiculo [Vehiculo-3] lavado en la machine_3 a las 9.00.\n",
      "Lavando el vehículo Vehiculo-1\n",
      "Vehiculo [Vehiculo-1] lavado en la machine_1 a las 10.00.\n",
      "Vehiculo empieza transporte a la salida : Vehiculo-2 a la hora 9.00.\n",
      "Vehiculo  sale : Vehiculo-2 a la hora 11.00.\n",
      "Vehiculo empieza transporte a la salida : Vehiculo-3 a la hora 9.00.\n",
      "Vehiculo  sale : Vehiculo-3 a la hora 13.00.\n",
      "Vehiculo empieza transporte a la salida : Vehiculo-1 a la hora 10.00.\n",
      "Vehiculo  sale : Vehiculo-1 a la hora 15.00.\n",
      "Vehiculo empieza transporte en la maquina machine_1: Vehiculo-4 a la hora 11.00.\n",
      "Entra vehiculo a lavarse: Vehiculo-4 a la hora 16.00.\n",
      "Vehiculo empieza transporte en la maquina machine_2: Vehiculo-5 a la hora 17.00.\n",
      "Entra vehiculo a lavarse: Vehiculo-5 a la hora 19.00.\n"
     ]
    }
   ],
   "source": [
    "print('*'*10,'Lavanderia UPS','*'*10)\n",
    "random.seed(77)\n",
    "\n",
    "env=simpy.Environment()\n",
    "simulacion = Simulacion(3)\n",
    "env.process(simulacion.ejecutar_simulacion(env, NUM_MAQUINAS, TIEMPO_LAVADO, INTERVALO_LLEGADA))\n",
    "env.run(until = TIEMPO_SIMULACION)"
   ]
  },
  {
   "cell_type": "markdown",
   "metadata": {},
   "source": [
    "- Modificamos el tiempo de lavado entre 5 y 11 con valores randómicos"
   ]
  },
  {
   "cell_type": "code",
   "execution_count": 24,
   "metadata": {},
   "outputs": [],
   "source": [
    "class Lavanderia():\n",
    "    \n",
    "    def __init__ (self,enviroment,num_maquinas,tiempo_lavado):\n",
    "        self.env = enviroment\n",
    "        self.maquinas = simpy.Resource(enviroment, num_maquinas)\n",
    "        self.tiempo_lavado = tiempo_lavado\n",
    "        self.maquinas_uso = {'machine_{}'.format(i+1):False for i in range(num_maquinas)}\n",
    "    \n",
    "     \n",
    "    def lavar_vehiculo(self,vehiculo):\n",
    "        yield self.env.timeout(random.randint(5,11))\n",
    "        print(\"Lavando el vehículo {}\".format(vehiculo))\n",
    "    \n",
    "    def llegada_al_lavado(self,vehiculo,espera):\n",
    "        yield self.env.timeout(espera)\n",
    "    \n",
    "    def salida_local(self,espera):\n",
    "        yield self.env.timeout(espera)\n",
    "        \n",
    "    def usar_maquina(self):\n",
    "        maquina_nombre=''\n",
    "        for maquina in self.maquinas_uso.items():\n",
    "            if(maquina[1]==False):\n",
    "                self.maquinas_uso[maquina[0]]=True\n",
    "                maquina_nombre=maquina[0]\n",
    "                break\n",
    "        return maquina_nombre\n",
    "    \n",
    "    def desocupar_maquina(self,key):\n",
    "        self.maquinas_uso[key]=False\n",
    "    \n",
    "    def llegada_vehiculo(self,vehiculo):\n",
    "        with self.maquinas.request() as maquina:\n",
    "            yield maquina\n",
    "            maquina_nombre = self.usar_maquina()\n",
    "            espera = random.randint(1,5)\n",
    "            yield env.process(self.llegada_al_lavado(vehiculo,espera))\n",
    "            print('Vehiculo empieza transporte en la maquina %s: %s a la hora %.2f.'% (maquina_nombre,vehiculo, env.now-(espera)))\n",
    "            print('Entra vehiculo a lavarse: %s a la hora %.2f.' % (vehiculo, env.now))\n",
    "            \n",
    "            yield env.process(self.lavar_vehiculo(vehiculo))\n",
    "            self.desocupar_maquina(maquina_nombre)        \n",
    "            print('Vehiculo [%s] lavado en la %s a las %.2f.' % (vehiculo,maquina_nombre, env.now))\n",
    "            salida = random.randint(2,5)\n",
    "            yield env.process(self.salida_local(salida))\n",
    "            print('Vehiculo empieza transporte a la salida : %s a la hora %.2f.'% (vehiculo, env.now-(salida)))\n",
    "            print('Vehiculo  sale : %s a la hora %.2f.'% (vehiculo, env.now))"
   ]
  },
  {
   "cell_type": "code",
   "execution_count": 25,
   "metadata": {},
   "outputs": [
    {
     "name": "stdout",
     "output_type": "stream",
     "text": [
      "********** Lavanderia UPS **********\n",
      "Vehiculo empieza transporte en la maquina machine_2: Vehiculo-2 a la hora 0.00.\n",
      "Entra vehiculo a lavarse: Vehiculo-2 a la hora 2.00.\n",
      "Vehiculo empieza transporte en la maquina machine_3: Vehiculo-3 a la hora 0.00.\n",
      "Entra vehiculo a lavarse: Vehiculo-3 a la hora 2.00.\n",
      "Vehiculo empieza transporte en la maquina machine_1: Vehiculo-1 a la hora 0.00.\n",
      "Entra vehiculo a lavarse: Vehiculo-1 a la hora 3.00.\n",
      "Lavando el vehículo Vehiculo-2\n",
      "Lavando el vehículo Vehiculo-1\n",
      "Vehiculo [Vehiculo-2] lavado en la machine_2 a las 8.00.\n",
      "Vehiculo [Vehiculo-1] lavado en la machine_1 a las 8.00.\n",
      "Vehiculo empieza transporte a la salida : Vehiculo-2 a la hora 8.00.\n",
      "Vehiculo  sale : Vehiculo-2 a la hora 12.00.\n",
      "Lavando el vehículo Vehiculo-3\n",
      "Vehiculo [Vehiculo-3] lavado en la machine_3 a las 13.00.\n",
      "Vehiculo empieza transporte a la salida : Vehiculo-1 a la hora 8.00.\n",
      "Vehiculo  sale : Vehiculo-1 a la hora 13.00.\n",
      "Vehiculo empieza transporte a la salida : Vehiculo-3 a la hora 13.00.\n",
      "Vehiculo  sale : Vehiculo-3 a la hora 16.00.\n",
      "Vehiculo empieza transporte en la maquina machine_1: Vehiculo-4 a la hora 12.00.\n",
      "Entra vehiculo a lavarse: Vehiculo-4 a la hora 17.00.\n"
     ]
    }
   ],
   "source": [
    "print('*'*10,'Lavanderia UPS','*'*10)\n",
    "random.seed(77)\n",
    "env=simpy.Environment()\n",
    "simulacion = Simulacion(3)\n",
    "env.process(simulacion.ejecutar_simulacion(env, NUM_MAQUINAS, TIEMPO_LAVADO, INTERVALO_LLEGADA))\n",
    "env.run(until = TIEMPO_SIMULACION)"
   ]
  }
 ],
 "metadata": {
  "hide_input": false,
  "kernelspec": {
   "display_name": "Python 3",
   "language": "python",
   "name": "python3"
  },
  "language_info": {
   "codemirror_mode": {
    "name": "ipython",
    "version": 3
   },
   "file_extension": ".py",
   "mimetype": "text/x-python",
   "name": "python",
   "nbconvert_exporter": "python",
   "pygments_lexer": "ipython3",
   "version": "3.8.5"
  },
  "toc": {
   "base_numbering": 1,
   "nav_menu": {},
   "number_sections": true,
   "sideBar": true,
   "skip_h1_title": false,
   "title_cell": "Table of Contents",
   "title_sidebar": "Contents",
   "toc_cell": false,
   "toc_position": {},
   "toc_section_display": true,
   "toc_window_display": false
  }
 },
 "nbformat": 4,
 "nbformat_minor": 5
}
